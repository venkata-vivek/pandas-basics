{
 "cells": [
  {
   "cell_type": "markdown",
   "metadata": {},
   "source": [
    "# Sort one volumn in ascending order\n",
    "df.sort_values(by='ColumnName',ascending=False)\n",
    "### Sort two columns in ascending order\n",
    "df.sort_values(by=['ColumnName1','ColumnName2'],ascending=False)\n",
    "### Sort one column by ascending order and one by descending order \n",
    "df.sort_values(by=['ColumnName1','ColumnName2'],ascending=[True,False])\n",
    "### To make this permanent \n",
    "df.sort_values(by=['ColumnName1','ColumnName2'],ascending=[True,False],inplace=True)\n",
    "### Sort by index\n",
    "df.sort_index()"
   ]
  },
  {
   "cell_type": "code",
   "execution_count": 2,
   "metadata": {},
   "outputs": [],
   "source": [
    "import pandas as pd\n",
    "\n",
    "pd.set_option('display.max_columns',120)\n",
    "pd.set_option('display.max_rows',100)\n",
    "\n",
    "df = pd.read_csv('./data/survey_results_public.csv')\n",
    "schema_df = pd.read_csv('./data/survey_results_schema.csv',index_col='qname')"
   ]
  },
  {
   "cell_type": "code",
   "execution_count": null,
   "metadata": {},
   "outputs": [],
   "source": [
    "df.sort_values(by=['Country','CompTotal'],inplace=True)\n",
    "df[['Country','CompTotal']].head(50)"
   ]
  },
  {
   "cell_type": "markdown",
   "metadata": {},
   "source": [
    "# Get the 10 largest elements "
   ]
  },
  {
   "cell_type": "code",
   "execution_count": 8,
   "metadata": {},
   "outputs": [],
   "source": [
    "df['CompTotal'].nlargest(10)\n",
    "df.nlargest(10,'CompTotal')"
   ]
  },
  {
   "cell_type": "code",
   "execution_count": null,
   "metadata": {},
   "outputs": [],
   "source": []
  }
 ],
 "metadata": {
  "kernelspec": {
   "display_name": "Python [conda env:base] *",
   "language": "python",
   "name": "conda-base-py"
  }
 },
 "nbformat": 4,
 "nbformat_minor": 2
}
